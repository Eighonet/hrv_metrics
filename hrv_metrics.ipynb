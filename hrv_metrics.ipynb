{
 "cells": [
  {
   "cell_type": "code",
   "execution_count": 428,
   "metadata": {},
   "outputs": [
    {
     "name": "stdout",
     "output_type": "stream",
     "text": [
      "^C\n"
     ]
    }
   ],
   "source": [
    "!pip install heartpy -q\n",
    "!pip install mne -q\n",
    "!pip install neurokit2 -q"
   ]
  },
  {
   "cell_type": "code",
   "execution_count": 505,
   "metadata": {},
   "outputs": [],
   "source": [
    "import json\n",
    "from os import listdir\n",
    "from tqdm import tqdm\n",
    "\n",
    "import numpy as np\n",
    "import pandas as pd\n",
    "import mne\n",
    "import neurokit2 as nk\n",
    "import heartpy as hp\n",
    "\n",
    "file_path = 'pairs.json'\n",
    "\n",
    "with open(file_path, 'r') as json_file:\n",
    "    loaded_dict = json.load(json_file)\n",
    "\n",
    "files = np.array([f for f in listdir('Data_upd/') if '.edf' in f])"
   ]
  },
  {
   "cell_type": "markdown",
   "metadata": {},
   "source": [
    "### Code for 8 files (grouped by videos)"
   ]
  },
  {
   "cell_type": "code",
   "execution_count": null,
   "metadata": {},
   "outputs": [],
   "source": [
    "broken = []\n",
    "result_m = {'C1':{}, 'C2':{}, 'F1':{}, 'F2':{}, 'V1':{}, 'V2':{}, 'V3':{}, 'V4':{}}\n",
    "result_b = {'C1':{}, 'C2':{}, 'F1':{}, 'F2':{}, 'V1':{}, 'V2':{}, 'V3':{}, 'V4':{}}\n",
    "\n",
    "for idx, f in tqdm(enumerate(files)):\n",
    "    print(f'====PROCEISSING {f}====')\n",
    "    for idx_v, video in enumerate(['C1', 'C2', 'F1', 'F2', 'V1', 'V2', 'V3','V4']):\n",
    "        print(f'-----{video}-----')\n",
    "        data = mne.io.read_raw_edf('Data_upd/' + f, preload=True, misc=('Zygom', 'Corr', 'EDA', 'Pulse', 'Mark'))\n",
    "        data = data.pick_channels(['Pulse'])\n",
    "        \n",
    "        start, end = loaded_dict[f][idx_v]\n",
    "\n",
    "        ppg = data[0][0][0][int(start):int(end)]\n",
    "        ppg_b = data[0][0][0][(int(start)-10000):int(start)]\n",
    "\n",
    "        ppg = nk.ppg_clean(ppg, sampling_rate=500)\n",
    "        ppg_b = nk.ppg_clean(ppg_b, sampling_rate=500)\n",
    "\n",
    "        wd, m = hp.process(ppg, sample_rate=500, calc_freq=True)\n",
    "        wd_b, m_b = hp.process(ppg_b, sample_rate=500, calc_freq=True)\n",
    "\n",
    "        try:\n",
    "            wd, m = hp.process(ppg, sample_rate=500, calc_freq=True)\n",
    "            wd_b, m_b = hp.process(ppg_b, sample_rate=500, calc_freq=True)\n",
    "        except:\n",
    "            print('ACHTUNG!')\n",
    "            broken.append([f, idx_v])\n",
    "            continue\n",
    "\n",
    "        result_m[video][f] = m\n",
    "        result_b[video][f] = m_b"
   ]
  },
  {
   "cell_type": "markdown",
   "metadata": {},
   "source": [
    "### Code for 60 files (grouped by participants)"
   ]
  },
  {
   "cell_type": "code",
   "execution_count": null,
   "metadata": {},
   "outputs": [],
   "source": [
    "broken = []\n",
    "result = {f:{} for f in files}\n",
    "\n",
    "for idx, f in tqdm(enumerate(files)):\n",
    "    print(f'====PROCEISSING {f}====')\n",
    "    for idx_v, video in enumerate(['C1', 'C2', 'F1', 'F2', 'V1', 'V2', 'V3','V4']):\n",
    "        print(f'-----{video}-----')\n",
    "        data = mne.io.read_raw_edf('Data_upd/' + f, preload=True, misc=('Zygom', 'Corr', 'EDA', 'Pulse', 'Mark'))\n",
    "        data = data.pick_channels(['Pulse'])\n",
    "        \n",
    "        start, end = loaded_dict[f][idx_v]\n",
    "\n",
    "        ppg = data[0][0][0][int(start):int(end)]\n",
    "        ppg_b = data[0][0][0][(int(start)-10000):int(start)]\n",
    "\n",
    "        ppg = nk.ppg_clean(ppg, sampling_rate=500)\n",
    "        ppg_b = nk.ppg_clean(ppg_b, sampling_rate=500)\n",
    "\n",
    "        wd, m = hp.process(ppg, sample_rate=500, calc_freq=True)\n",
    "        wd_b, m_b = hp.process(ppg_b, sample_rate=500, calc_freq=True)\n",
    "\n",
    "        result[f]['baseline_' + video] = m_b\n",
    "        result[f][video] = m"
   ]
  },
  {
   "cell_type": "code",
   "execution_count": 559,
   "metadata": {},
   "outputs": [
    {
     "name": "stderr",
     "output_type": "stream",
     "text": [
      "100%|██████████| 60/60 [00:00<00:00, 289.98it/s]\n"
     ]
    }
   ],
   "source": [
    "for f in tqdm(files):\n",
    "    pd.DataFrame(result[f]).T.to_csv(f'hrv/{f.split(\".\")[0]}.csv')"
   ]
  }
 ],
 "metadata": {
  "kernelspec": {
   "display_name": "Python 3",
   "language": "python",
   "name": "python3"
  },
  "language_info": {
   "codemirror_mode": {
    "name": "ipython",
    "version": 3
   },
   "file_extension": ".py",
   "mimetype": "text/x-python",
   "name": "python",
   "nbconvert_exporter": "python",
   "pygments_lexer": "ipython3",
   "version": "3.11.5"
  }
 },
 "nbformat": 4,
 "nbformat_minor": 2
}
